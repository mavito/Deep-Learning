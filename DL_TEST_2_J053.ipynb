{
  "nbformat": 4,
  "nbformat_minor": 0,
  "metadata": {
    "colab": {
      "name": "DL_TEST_2_J053.ipynb",
      "provenance": [],
      "collapsed_sections": []
    },
    "kernelspec": {
      "name": "python3",
      "display_name": "Python 3"
    },
    "accelerator": "GPU"
  },
  "cells": [
    {
      "cell_type": "code",
      "metadata": {
        "id": "p-bzygDJrkDu",
        "colab_type": "code",
        "colab": {}
      },
      "source": [
        "import numpy as np\n",
        "import pandas as pd\n",
        "import cv2\n",
        "import PIL.Image\n",
        "import io\n",
        "from zipfile import ZipFile\n",
        "from urllib.request import urlopen\n",
        "import os\n",
        "from tqdm import tqdm"
      ],
      "execution_count": 0,
      "outputs": []
    },
    {
      "cell_type": "markdown",
      "metadata": {
        "id": "aF3SeqY5-zU-",
        "colab_type": "text"
      },
      "source": [
        "# **Loading the data images**"
      ]
    },
    {
      "cell_type": "code",
      "metadata": {
        "id": "dyfCXkf2GMRL",
        "colab_type": "code",
        "colab": {}
      },
      "source": [
        "url = 'http://weegee.vision.ucmerced.edu/datasets/UCMerced_LandUse.zip'"
      ],
      "execution_count": 0,
      "outputs": []
    },
    {
      "cell_type": "code",
      "metadata": {
        "id": "pwDvSUrjGOau",
        "colab_type": "code",
        "colab": {}
      },
      "source": [
        "resp = urlopen(url)\n",
        "zipfile = ZipFile(io.BytesIO(resp.read()))\n",
        "zipfile.namelist()"
      ],
      "execution_count": 0,
      "outputs": []
    },
    {
      "cell_type": "code",
      "metadata": {
        "id": "0Q38ciDyQUH1",
        "colab_type": "code",
        "colab": {}
      },
      "source": [
        "zipfile.extractall('/content/')"
      ],
      "execution_count": 0,
      "outputs": []
    },
    {
      "cell_type": "markdown",
      "metadata": {
        "id": "t49iLxvo-7vQ",
        "colab_type": "text"
      },
      "source": [
        "# **Preparing the data**"
      ]
    },
    {
      "cell_type": "markdown",
      "metadata": {
        "id": "lsu3P-nC_Ip4",
        "colab_type": "text"
      },
      "source": [
        "# 2.1) Making the functions to get the training and validation set from the Images"
      ]
    },
    {
      "cell_type": "code",
      "metadata": {
        "id": "Bj1LWocIxkRu",
        "colab_type": "code",
        "colab": {}
      },
      "source": [
        "X=[]\n",
        "Z=[]\n",
        "IMG_SIZE=150\n",
        "AGRICULTURAL_DIR='/content/UCMerced_LandUse/Images/agricultural' \n",
        "AIRPLANE_DIR='/content/UCMerced_LandUse/Images/airplane'\n",
        "BASEBALLDIAMOND_DIR='/content/UCMerced_LandUse/Images/baseballdiamond'\n",
        "BEACH_DIR='/content/UCMerced_LandUse/Images/beach'\n",
        "BUILDINGS_DIR='/content/UCMerced_LandUse/Images/buildings'\n",
        "CHAPARRAL_DIR='/content/UCMerced_LandUse/Images/chaparral'\n",
        "DENSERESIDENTIAL_DIR='/content/UCMerced_LandUse/Images/denseresidential'\n",
        "FOREST_DIR='/content/UCMerced_LandUse/Images/forest'\n",
        "FREEWAY_DIR='/content/UCMerced_LandUse/Images/freeway'\n",
        "GOLFCOURSE_DIR='/content/UCMerced_LandUse/Images/golfcourse'\n",
        "HARBOR_DIR='/content/UCMerced_LandUse/Images/harbor'\n",
        "INTERSECTION_DIR='/content/UCMerced_LandUse/Images/intersection'\n",
        "MEDIUMRESIDENTIAL_DIR='/content/UCMerced_LandUse/Images/mediumresidential'\n",
        "MOBILEHOMEPARK_DIR='/content/UCMerced_LandUse/Images/mobilehomepark'\n",
        "OVERPASS_DIR='/content/UCMerced_LandUse/Images/overpass'\n",
        "PARKINGLOT_DIR='/content/UCMerced_LandUse/Images/parkinglot'\n",
        "RIVER_DIR='/content/UCMerced_LandUse/Images/river'\n",
        "RUNWAY_DIR='/content/UCMerced_LandUse/Images/runway'\n",
        "SPARSERESIDENTIAL_DIR='/content/UCMerced_LandUse/Images/sparseresidential'\n",
        "STORAGETANKS_DIR='/content/UCMerced_LandUse/Images/storagetanks'\n",
        "TENNISCOURT_DIR='/content/UCMerced_LandUse/Images/tenniscourt'"
      ],
      "execution_count": 0,
      "outputs": []
    },
    {
      "cell_type": "code",
      "metadata": {
        "id": "D8wCcPnR4pQh",
        "colab_type": "code",
        "colab": {}
      },
      "source": [
        "def assign_label(img,image_type):\n",
        "    return image_type"
      ],
      "execution_count": 0,
      "outputs": []
    },
    {
      "cell_type": "code",
      "metadata": {
        "id": "FQZNJsn84tas",
        "colab_type": "code",
        "colab": {}
      },
      "source": [
        "def make_train_data(image_type,DIR):\n",
        "    for img in tqdm(os.listdir(DIR)):\n",
        "        label=assign_label(img,image_type)\n",
        "        path = os.path.join(DIR,img)\n",
        "        img = cv2.imread(path,cv2.IMREAD_COLOR)\n",
        "        img = cv2.resize(img, (IMG_SIZE,IMG_SIZE))\n",
        "        \n",
        "        X.append(np.array(img))\n",
        "        Z.append(str(label))"
      ],
      "execution_count": 0,
      "outputs": []
    },
    {
      "cell_type": "code",
      "metadata": {
        "id": "Z8oZCt2h4xr2",
        "colab_type": "code",
        "outputId": "6beb651e-f4ed-4161-bb2f-eeaaa1e99c9c",
        "colab": {
          "base_uri": "https://localhost:8080/",
          "height": 370
        }
      },
      "source": [
        "make_train_data('Agricultural',AGRICULTURAL_DIR)\n",
        "make_train_data('Airplane',AIRPLANE_DIR)\n",
        "make_train_data('Baseball Diamond',BASEBALLDIAMOND_DIR)\n",
        "make_train_data('Beach',BEACH_DIR)\n",
        "make_train_data('Buildings',BUILDINGS_DIR)\n",
        "make_train_data('Chaparral',CHAPARRAL_DIR)\n",
        "make_train_data('Dense Residential',DENSERESIDENTIAL_DIR)\n",
        "make_train_data('Forest',FOREST_DIR)\n",
        "make_train_data('Freeway',FREEWAY_DIR)\n",
        "make_train_data('Golfcourse',GOLFCOURSE_DIR)\n",
        "make_train_data('Harbor',HARBOR_DIR)\n",
        "make_train_data('Intersection',INTERSECTION_DIR)\n",
        "make_train_data('Medium Residential',MEDIUMRESIDENTIAL_DIR)\n",
        "make_train_data('Mobile Home Park',MOBILEHOMEPARK_DIR)\n",
        "make_train_data('Overpass',OVERPASS_DIR)\n",
        "make_train_data('Parking Lot',PARKINGLOT_DIR)\n",
        "make_train_data('River',RIVER_DIR)\n",
        "make_train_data('Runway',RUNWAY_DIR)\n",
        "make_train_data('Sparse Residential',SPARSERESIDENTIAL_DIR)\n",
        "make_train_data('Storage Tanks',STORAGETANKS_DIR)\n",
        "make_train_data('Tennis Court',TENNISCOURT_DIR)"
      ],
      "execution_count": 24,
      "outputs": [
        {
          "output_type": "stream",
          "text": [
            "100%|██████████| 100/100 [00:00<00:00, 1477.28it/s]\n",
            "100%|██████████| 100/100 [00:00<00:00, 1440.70it/s]\n",
            "100%|██████████| 100/100 [00:00<00:00, 1633.86it/s]\n",
            "100%|██████████| 100/100 [00:00<00:00, 1676.89it/s]\n",
            "100%|██████████| 100/100 [00:00<00:00, 1705.42it/s]\n",
            "100%|██████████| 100/100 [00:00<00:00, 1670.97it/s]\n",
            "100%|██████████| 100/100 [00:00<00:00, 1608.29it/s]\n",
            "100%|██████████| 100/100 [00:00<00:00, 1621.91it/s]\n",
            "100%|██████████| 100/100 [00:00<00:00, 1640.83it/s]\n",
            "100%|██████████| 100/100 [00:00<00:00, 1661.15it/s]\n",
            "100%|██████████| 100/100 [00:00<00:00, 1609.55it/s]\n",
            "100%|██████████| 100/100 [00:00<00:00, 1682.72it/s]\n",
            "100%|██████████| 100/100 [00:00<00:00, 1581.70it/s]\n",
            "100%|██████████| 100/100 [00:00<00:00, 1645.48it/s]\n",
            "100%|██████████| 100/100 [00:00<00:00, 1652.70it/s]\n",
            "100%|██████████| 100/100 [00:00<00:00, 1471.88it/s]\n",
            "100%|██████████| 100/100 [00:00<00:00, 1515.69it/s]\n",
            "100%|██████████| 100/100 [00:00<00:00, 1608.72it/s]\n",
            "100%|██████████| 100/100 [00:00<00:00, 1594.42it/s]\n",
            "100%|██████████| 100/100 [00:00<00:00, 1646.25it/s]\n",
            "100%|██████████| 100/100 [00:00<00:00, 1683.82it/s]\n"
          ],
          "name": "stderr"
        }
      ]
    },
    {
      "cell_type": "markdown",
      "metadata": {
        "id": "3JQP5XHH_OHw",
        "colab_type": "text"
      },
      "source": [
        "# **Importing various modules**"
      ]
    },
    {
      "cell_type": "code",
      "metadata": {
        "id": "8uUkE0Mu7MA9",
        "colab_type": "code",
        "outputId": "260f64c8-ac85-468d-c789-72f4c129fdb9",
        "colab": {
          "base_uri": "https://localhost:8080/",
          "height": 79
        }
      },
      "source": [
        "# Ignore  the warnings\n",
        "import warnings\n",
        "warnings.filterwarnings('always')\n",
        "warnings.filterwarnings('ignore')\n",
        "\n",
        "# data visualisation and manipulation\n",
        "import numpy as np\n",
        "import pandas as pd\n",
        "import matplotlib.pyplot as plt\n",
        "from matplotlib import style\n",
        "import seaborn as sns\n",
        " \n",
        "#configure\n",
        "# sets matplotlib to inline and displays graphs below the corressponding cell.\n",
        "%matplotlib inline  \n",
        "style.use('fivethirtyeight')\n",
        "sns.set(style='whitegrid',color_codes=True)\n",
        "\n",
        "#model selection\n",
        "from sklearn.model_selection import train_test_split\n",
        "from sklearn.model_selection import KFold\n",
        "from sklearn.metrics import accuracy_score,precision_score,recall_score,confusion_matrix,roc_curve,roc_auc_score\n",
        "from sklearn.model_selection import GridSearchCV\n",
        "from sklearn.preprocessing import LabelEncoder\n",
        "\n",
        "#preprocess.\n",
        "from keras.preprocessing.image import ImageDataGenerator\n",
        "\n",
        "#dl libraraies\n",
        "from keras import backend as K\n",
        "from keras.models import Sequential\n",
        "from keras.layers import Dense\n",
        "from keras.optimizers import Adam,SGD,Adagrad,Adadelta,RMSprop\n",
        "from keras.utils import to_categorical\n",
        "\n",
        "# specifically for cnn\n",
        "from keras.layers import Dropout, Flatten,Activation\n",
        "from keras.layers import Conv2D, MaxPooling2D, BatchNormalization\n",
        " \n",
        "import tensorflow as tf\n",
        "import random as rn\n",
        "\n",
        "# specifically for manipulating zipped images and getting numpy arrays of pixel values of images.\n",
        "import cv2                  \n",
        "import numpy as np  \n",
        "from tqdm import tqdm\n",
        "import os                   \n",
        "from random import shuffle  \n",
        "from zipfile import ZipFile\n",
        "from PIL import Image"
      ],
      "execution_count": 25,
      "outputs": [
        {
          "output_type": "stream",
          "text": [
            "Using TensorFlow backend.\n"
          ],
          "name": "stderr"
        },
        {
          "output_type": "display_data",
          "data": {
            "text/html": [
              "<p style=\"color: red;\">\n",
              "The default version of TensorFlow in Colab will soon switch to TensorFlow 2.x.<br>\n",
              "We recommend you <a href=\"https://www.tensorflow.org/guide/migrate\" target=\"_blank\">upgrade</a> now \n",
              "or ensure your notebook will continue to use TensorFlow 1.x via the <code>%tensorflow_version 1.x</code> magic:\n",
              "<a href=\"https://colab.research.google.com/notebooks/tensorflow_version.ipynb\" target=\"_blank\">more info</a>.</p>\n"
            ],
            "text/plain": [
              "<IPython.core.display.HTML object>"
            ]
          },
          "metadata": {
            "tags": []
          }
        }
      ]
    },
    {
      "cell_type": "markdown",
      "metadata": {
        "id": "Kj-SgXwq_Sfp",
        "colab_type": "text"
      },
      "source": [
        "# 2.2 ) Label Encoding the Y array (i.e. agricultural->0, airplane->1 etc...) & then One Hot Encoding"
      ]
    },
    {
      "cell_type": "code",
      "metadata": {
        "id": "qs7-XRaT7Qqt",
        "colab_type": "code",
        "colab": {}
      },
      "source": [
        "le=LabelEncoder()\n",
        "Y=le.fit_transform(Z)\n",
        "Y=to_categorical(Y,21)\n",
        "X=np.array(X)\n",
        "X=X/255"
      ],
      "execution_count": 0,
      "outputs": []
    },
    {
      "cell_type": "markdown",
      "metadata": {
        "id": "KIXJhD3r_gXo",
        "colab_type": "text"
      },
      "source": [
        "# 2.3) Splitting into Training and Validation Sets"
      ]
    },
    {
      "cell_type": "code",
      "metadata": {
        "id": "rG4oaC4C7V55",
        "colab_type": "code",
        "colab": {}
      },
      "source": [
        "x_train,x_test,y_train,y_test=train_test_split(X,Y,test_size=0.25,random_state=42)"
      ],
      "execution_count": 0,
      "outputs": []
    },
    {
      "cell_type": "markdown",
      "metadata": {
        "id": "T9uOEm_w_hy7",
        "colab_type": "text"
      },
      "source": [
        "# 2.4 ) Setting the Random Seeds"
      ]
    },
    {
      "cell_type": "code",
      "metadata": {
        "id": "C7ChBwcv7Zji",
        "colab_type": "code",
        "colab": {}
      },
      "source": [
        "np.random.seed(42)\n",
        "rn.seed(42)\n",
        "tf.set_random_seed(42)"
      ],
      "execution_count": 0,
      "outputs": []
    },
    {
      "cell_type": "markdown",
      "metadata": {
        "id": "lNmnxM9__lWU",
        "colab_type": "text"
      },
      "source": [
        "# **3 ) Modelling**"
      ]
    },
    {
      "cell_type": "markdown",
      "metadata": {
        "id": "Ac2TBejM_oqn",
        "colab_type": "text"
      },
      "source": [
        "# 3.1 ) Building the ConvNet Model"
      ]
    },
    {
      "cell_type": "code",
      "metadata": {
        "id": "KfDv23Yq7bZc",
        "colab_type": "code",
        "outputId": "9ff0ef68-4f3d-41c9-eebf-a8ccf743c4e3",
        "colab": {
          "base_uri": "https://localhost:8080/",
          "height": 171
        }
      },
      "source": [
        "# # modelling starts using a CNN.\n",
        "\n",
        "model = Sequential()\n",
        "model.add(Conv2D(filters = 32, kernel_size = (5,5),padding = 'Same',activation ='relu', input_shape = (150,150,3)))\n",
        "model.add(MaxPooling2D(pool_size=(2,2)))\n",
        "\n",
        "\n",
        "model.add(Conv2D(filters = 64, kernel_size = (3,3),padding = 'Same',activation ='relu'))\n",
        "model.add(MaxPooling2D(pool_size=(2,2), strides=(2,2)))\n",
        " \n",
        "\n",
        "model.add(Conv2D(filters =96, kernel_size = (3,3),padding = 'Same',activation ='relu'))\n",
        "model.add(MaxPooling2D(pool_size=(2,2), strides=(2,2)))\n",
        "\n",
        "model.add(Conv2D(filters = 96, kernel_size = (3,3),padding = 'Same',activation ='relu'))\n",
        "model.add(MaxPooling2D(pool_size=(2,2), strides=(2,2)))\n",
        "\n",
        "model.add(Flatten())\n",
        "model.add(Dense(512))\n",
        "model.add(Activation('relu'))\n",
        "model.add(Dense(21, activation = \"softmax\"))"
      ],
      "execution_count": 29,
      "outputs": [
        {
          "output_type": "stream",
          "text": [
            "WARNING:tensorflow:From /usr/local/lib/python3.6/dist-packages/keras/backend/tensorflow_backend.py:66: The name tf.get_default_graph is deprecated. Please use tf.compat.v1.get_default_graph instead.\n",
            "\n",
            "WARNING:tensorflow:From /usr/local/lib/python3.6/dist-packages/keras/backend/tensorflow_backend.py:541: The name tf.placeholder is deprecated. Please use tf.compat.v1.placeholder instead.\n",
            "\n",
            "WARNING:tensorflow:From /usr/local/lib/python3.6/dist-packages/keras/backend/tensorflow_backend.py:4432: The name tf.random_uniform is deprecated. Please use tf.random.uniform instead.\n",
            "\n",
            "WARNING:tensorflow:From /usr/local/lib/python3.6/dist-packages/keras/backend/tensorflow_backend.py:4267: The name tf.nn.max_pool is deprecated. Please use tf.nn.max_pool2d instead.\n",
            "\n"
          ],
          "name": "stdout"
        }
      ]
    },
    {
      "cell_type": "markdown",
      "metadata": {
        "id": "a--8PqlX_umH",
        "colab_type": "text"
      },
      "source": [
        "# 3.2 ) Using a LR Annealer"
      ]
    },
    {
      "cell_type": "code",
      "metadata": {
        "id": "yWB0P4F97lsQ",
        "colab_type": "code",
        "colab": {}
      },
      "source": [
        "batch_size=21\n",
        "epochs=50\n",
        "\n",
        "from keras.callbacks import ReduceLROnPlateau\n",
        "red_lr= ReduceLROnPlateau(monitor='val_acc',patience=3,verbose=1,factor=0.1)"
      ],
      "execution_count": 0,
      "outputs": []
    },
    {
      "cell_type": "markdown",
      "metadata": {
        "id": "ii7mBWmg_x8U",
        "colab_type": "text"
      },
      "source": [
        "# 3.3 ) Data Augmentation to prevent Overfitting\n"
      ]
    },
    {
      "cell_type": "code",
      "metadata": {
        "id": "wrVXoNxP7seJ",
        "colab_type": "code",
        "colab": {}
      },
      "source": [
        "datagen = ImageDataGenerator(\n",
        "        featurewise_center=False,  # set input mean to 0 over the dataset\n",
        "        samplewise_center=False,  # set each sample mean to 0\n",
        "        featurewise_std_normalization=False,  # divide inputs by std of the dataset\n",
        "        samplewise_std_normalization=False,  # divide each input by its std\n",
        "        zca_whitening=False,  # apply ZCA whitening\n",
        "        rotation_range=10,  # randomly rotate images in the range (degrees, 0 to 180)\n",
        "        zoom_range = 0.1, # Randomly zoom image \n",
        "        width_shift_range=0.2,  # randomly shift images horizontally (fraction of total width)\n",
        "        height_shift_range=0.2,  # randomly shift images vertically (fraction of total height)\n",
        "        horizontal_flip=True,  # randomly flip images\n",
        "        vertical_flip=False)  # randomly flip images\n",
        "\n",
        "\n",
        "datagen.fit(x_train)"
      ],
      "execution_count": 0,
      "outputs": []
    },
    {
      "cell_type": "markdown",
      "metadata": {
        "id": "7Fux6dRb_1G0",
        "colab_type": "text"
      },
      "source": [
        "# 3.4 ) Compiling the Keras Model & Summary"
      ]
    },
    {
      "cell_type": "code",
      "metadata": {
        "id": "WHVPZRd_7xP_",
        "colab_type": "code",
        "outputId": "5ff72807-76a5-4ff5-9631-fe2a89b38a37",
        "colab": {
          "base_uri": "https://localhost:8080/",
          "height": 154
        }
      },
      "source": [
        "model.compile(optimizer=Adam(lr=0.001),loss='binary_crossentropy',metrics=['accuracy'])"
      ],
      "execution_count": 32,
      "outputs": [
        {
          "output_type": "stream",
          "text": [
            "WARNING:tensorflow:From /usr/local/lib/python3.6/dist-packages/keras/optimizers.py:793: The name tf.train.Optimizer is deprecated. Please use tf.compat.v1.train.Optimizer instead.\n",
            "\n",
            "WARNING:tensorflow:From /usr/local/lib/python3.6/dist-packages/keras/backend/tensorflow_backend.py:3657: The name tf.log is deprecated. Please use tf.math.log instead.\n",
            "\n",
            "WARNING:tensorflow:From /usr/local/lib/python3.6/dist-packages/tensorflow_core/python/ops/nn_impl.py:183: where (from tensorflow.python.ops.array_ops) is deprecated and will be removed in a future version.\n",
            "Instructions for updating:\n",
            "Use tf.where in 2.0, which has the same broadcast rule as np.where\n"
          ],
          "name": "stdout"
        }
      ]
    },
    {
      "cell_type": "code",
      "metadata": {
        "id": "BRjC5tVW7zDo",
        "colab_type": "code",
        "outputId": "225e8527-f002-4410-d87c-e7cb3263870c",
        "colab": {
          "base_uri": "https://localhost:8080/",
          "height": 554
        }
      },
      "source": [
        "model.summary()"
      ],
      "execution_count": 33,
      "outputs": [
        {
          "output_type": "stream",
          "text": [
            "Model: \"sequential_1\"\n",
            "_________________________________________________________________\n",
            "Layer (type)                 Output Shape              Param #   \n",
            "=================================================================\n",
            "conv2d_1 (Conv2D)            (None, 150, 150, 32)      2432      \n",
            "_________________________________________________________________\n",
            "max_pooling2d_1 (MaxPooling2 (None, 75, 75, 32)        0         \n",
            "_________________________________________________________________\n",
            "conv2d_2 (Conv2D)            (None, 75, 75, 64)        18496     \n",
            "_________________________________________________________________\n",
            "max_pooling2d_2 (MaxPooling2 (None, 37, 37, 64)        0         \n",
            "_________________________________________________________________\n",
            "conv2d_3 (Conv2D)            (None, 37, 37, 96)        55392     \n",
            "_________________________________________________________________\n",
            "max_pooling2d_3 (MaxPooling2 (None, 18, 18, 96)        0         \n",
            "_________________________________________________________________\n",
            "conv2d_4 (Conv2D)            (None, 18, 18, 96)        83040     \n",
            "_________________________________________________________________\n",
            "max_pooling2d_4 (MaxPooling2 (None, 9, 9, 96)          0         \n",
            "_________________________________________________________________\n",
            "flatten_1 (Flatten)          (None, 7776)              0         \n",
            "_________________________________________________________________\n",
            "dense_1 (Dense)              (None, 512)               3981824   \n",
            "_________________________________________________________________\n",
            "activation_1 (Activation)    (None, 512)               0         \n",
            "_________________________________________________________________\n",
            "dense_2 (Dense)              (None, 21)                10773     \n",
            "=================================================================\n",
            "Total params: 4,151,957\n",
            "Trainable params: 4,151,957\n",
            "Non-trainable params: 0\n",
            "_________________________________________________________________\n"
          ],
          "name": "stdout"
        }
      ]
    },
    {
      "cell_type": "markdown",
      "metadata": {
        "id": "4sXGvVh7_49c",
        "colab_type": "text"
      },
      "source": [
        "# 3.5 ) Fitting on the Training set and making predcitons on the Validation set"
      ]
    },
    {
      "cell_type": "code",
      "metadata": {
        "id": "rBzDssSu71S3",
        "colab_type": "code",
        "outputId": "3f2ee4ee-28b3-4946-f4a9-b90be56f6884",
        "colab": {
          "base_uri": "https://localhost:8080/",
          "height": 1000
        }
      },
      "source": [
        "History = model.fit_generator(datagen.flow(x_train,y_train, batch_size=batch_size),\n",
        "                              epochs = epochs, validation_data = (x_test,y_test), \n",
        "                              verbose = 1, steps_per_epoch=x_train.shape[0] // batch_size)\n",
        "# model.fit(x_train,y_train,epochs=epochs,batch_size=batch_size,validation_data = (x_test,y_test))"
      ],
      "execution_count": 34,
      "outputs": [
        {
          "output_type": "stream",
          "text": [
            "WARNING:tensorflow:From /usr/local/lib/python3.6/dist-packages/keras/backend/tensorflow_backend.py:1033: The name tf.assign_add is deprecated. Please use tf.compat.v1.assign_add instead.\n",
            "\n",
            "WARNING:tensorflow:From /usr/local/lib/python3.6/dist-packages/keras/backend/tensorflow_backend.py:1020: The name tf.assign is deprecated. Please use tf.compat.v1.assign instead.\n",
            "\n",
            "WARNING:tensorflow:From /usr/local/lib/python3.6/dist-packages/keras/backend/tensorflow_backend.py:3005: The name tf.Session is deprecated. Please use tf.compat.v1.Session instead.\n",
            "\n",
            "Epoch 1/50\n",
            "WARNING:tensorflow:From /usr/local/lib/python3.6/dist-packages/keras/backend/tensorflow_backend.py:190: The name tf.get_default_session is deprecated. Please use tf.compat.v1.get_default_session instead.\n",
            "\n",
            "WARNING:tensorflow:From /usr/local/lib/python3.6/dist-packages/keras/backend/tensorflow_backend.py:197: The name tf.ConfigProto is deprecated. Please use tf.compat.v1.ConfigProto instead.\n",
            "\n",
            "WARNING:tensorflow:From /usr/local/lib/python3.6/dist-packages/keras/backend/tensorflow_backend.py:207: The name tf.global_variables is deprecated. Please use tf.compat.v1.global_variables instead.\n",
            "\n",
            "WARNING:tensorflow:From /usr/local/lib/python3.6/dist-packages/keras/backend/tensorflow_backend.py:216: The name tf.is_variable_initialized is deprecated. Please use tf.compat.v1.is_variable_initialized instead.\n",
            "\n",
            "WARNING:tensorflow:From /usr/local/lib/python3.6/dist-packages/keras/backend/tensorflow_backend.py:223: The name tf.variables_initializer is deprecated. Please use tf.compat.v1.variables_initializer instead.\n",
            "\n",
            "78/78 [==============================] - 23s 293ms/step - loss: 0.1872 - acc: 0.9522 - val_loss: 0.1797 - val_acc: 0.9524\n",
            "Epoch 2/50\n",
            "78/78 [==============================] - 9s 117ms/step - loss: 0.1687 - acc: 0.9525 - val_loss: 0.1545 - val_acc: 0.9532\n",
            "Epoch 3/50\n",
            "78/78 [==============================] - 9s 116ms/step - loss: 0.1461 - acc: 0.9549 - val_loss: 0.1433 - val_acc: 0.9539\n",
            "Epoch 4/50\n",
            "78/78 [==============================] - 9s 115ms/step - loss: 0.1303 - acc: 0.9579 - val_loss: 0.1117 - val_acc: 0.9610\n",
            "Epoch 5/50\n",
            "78/78 [==============================] - 9s 115ms/step - loss: 0.1151 - acc: 0.9606 - val_loss: 0.0985 - val_acc: 0.9646\n",
            "Epoch 6/50\n",
            "78/78 [==============================] - 9s 116ms/step - loss: 0.1017 - acc: 0.9643 - val_loss: 0.0952 - val_acc: 0.9668\n",
            "Epoch 7/50\n",
            "78/78 [==============================] - 9s 119ms/step - loss: 0.0953 - acc: 0.9652 - val_loss: 0.0937 - val_acc: 0.9644\n",
            "Epoch 8/50\n",
            "78/78 [==============================] - 9s 119ms/step - loss: 0.0860 - acc: 0.9693 - val_loss: 0.0879 - val_acc: 0.9678\n",
            "Epoch 9/50\n",
            "78/78 [==============================] - 9s 119ms/step - loss: 0.0843 - acc: 0.9687 - val_loss: 0.0912 - val_acc: 0.9688\n",
            "Epoch 10/50\n",
            "78/78 [==============================] - 9s 118ms/step - loss: 0.0755 - acc: 0.9722 - val_loss: 0.0695 - val_acc: 0.9733\n",
            "Epoch 11/50\n",
            "78/78 [==============================] - 9s 114ms/step - loss: 0.0690 - acc: 0.9747 - val_loss: 0.0706 - val_acc: 0.9718\n",
            "Epoch 12/50\n",
            "78/78 [==============================] - 9s 118ms/step - loss: 0.0632 - acc: 0.9762 - val_loss: 0.0627 - val_acc: 0.9758\n",
            "Epoch 13/50\n",
            "78/78 [==============================] - 9s 115ms/step - loss: 0.0650 - acc: 0.9758 - val_loss: 0.0619 - val_acc: 0.9766\n",
            "Epoch 14/50\n",
            "78/78 [==============================] - 9s 116ms/step - loss: 0.0577 - acc: 0.9785 - val_loss: 0.0626 - val_acc: 0.9768\n",
            "Epoch 15/50\n",
            "78/78 [==============================] - 9s 115ms/step - loss: 0.0554 - acc: 0.9787 - val_loss: 0.0532 - val_acc: 0.9793\n",
            "Epoch 16/50\n",
            "78/78 [==============================] - 9s 113ms/step - loss: 0.0510 - acc: 0.9807 - val_loss: 0.0531 - val_acc: 0.9790\n",
            "Epoch 17/50\n",
            "78/78 [==============================] - 9s 118ms/step - loss: 0.0503 - acc: 0.9813 - val_loss: 0.0569 - val_acc: 0.9798\n",
            "Epoch 18/50\n",
            "78/78 [==============================] - 9s 113ms/step - loss: 0.0509 - acc: 0.9799 - val_loss: 0.0543 - val_acc: 0.9781\n",
            "Epoch 19/50\n",
            "78/78 [==============================] - 9s 115ms/step - loss: 0.0478 - acc: 0.9822 - val_loss: 0.0530 - val_acc: 0.9790\n",
            "Epoch 20/50\n",
            "78/78 [==============================] - 9s 117ms/step - loss: 0.0445 - acc: 0.9837 - val_loss: 0.0468 - val_acc: 0.9811\n",
            "Epoch 21/50\n",
            "78/78 [==============================] - 9s 116ms/step - loss: 0.0388 - acc: 0.9860 - val_loss: 0.0409 - val_acc: 0.9847\n",
            "Epoch 22/50\n",
            "78/78 [==============================] - 9s 114ms/step - loss: 0.0425 - acc: 0.9841 - val_loss: 0.0515 - val_acc: 0.9808\n",
            "Epoch 23/50\n",
            "78/78 [==============================] - 9s 118ms/step - loss: 0.0387 - acc: 0.9849 - val_loss: 0.0497 - val_acc: 0.9822\n",
            "Epoch 24/50\n",
            "78/78 [==============================] - 9s 114ms/step - loss: 0.0408 - acc: 0.9846 - val_loss: 0.0483 - val_acc: 0.9825\n",
            "Epoch 25/50\n",
            "78/78 [==============================] - 9s 117ms/step - loss: 0.0373 - acc: 0.9849 - val_loss: 0.0442 - val_acc: 0.9831\n",
            "Epoch 26/50\n",
            "78/78 [==============================] - 9s 117ms/step - loss: 0.0342 - acc: 0.9871 - val_loss: 0.0535 - val_acc: 0.9807\n",
            "Epoch 27/50\n",
            "78/78 [==============================] - 9s 115ms/step - loss: 0.0403 - acc: 0.9851 - val_loss: 0.0462 - val_acc: 0.9829\n",
            "Epoch 28/50\n",
            "78/78 [==============================] - 9s 115ms/step - loss: 0.0356 - acc: 0.9862 - val_loss: 0.0470 - val_acc: 0.9824\n",
            "Epoch 29/50\n",
            "78/78 [==============================] - 9s 116ms/step - loss: 0.0353 - acc: 0.9866 - val_loss: 0.0455 - val_acc: 0.9822\n",
            "Epoch 30/50\n",
            "78/78 [==============================] - 9s 116ms/step - loss: 0.0290 - acc: 0.9886 - val_loss: 0.0460 - val_acc: 0.9843\n",
            "Epoch 31/50\n",
            "78/78 [==============================] - 9s 115ms/step - loss: 0.0345 - acc: 0.9863 - val_loss: 0.0442 - val_acc: 0.9835\n",
            "Epoch 32/50\n",
            "78/78 [==============================] - 9s 118ms/step - loss: 0.0307 - acc: 0.9879 - val_loss: 0.0516 - val_acc: 0.9816\n",
            "Epoch 33/50\n",
            "78/78 [==============================] - 9s 117ms/step - loss: 0.0250 - acc: 0.9901 - val_loss: 0.0442 - val_acc: 0.9842\n",
            "Epoch 34/50\n",
            "78/78 [==============================] - 9s 116ms/step - loss: 0.0347 - acc: 0.9862 - val_loss: 0.0433 - val_acc: 0.9827\n",
            "Epoch 35/50\n",
            "78/78 [==============================] - 9s 116ms/step - loss: 0.0278 - acc: 0.9900 - val_loss: 0.0430 - val_acc: 0.9854\n",
            "Epoch 36/50\n",
            "78/78 [==============================] - 9s 116ms/step - loss: 0.0233 - acc: 0.9914 - val_loss: 0.0601 - val_acc: 0.9818\n",
            "Epoch 37/50\n",
            "78/78 [==============================] - 9s 117ms/step - loss: 0.0281 - acc: 0.9892 - val_loss: 0.0559 - val_acc: 0.9823\n",
            "Epoch 38/50\n",
            "78/78 [==============================] - 9s 117ms/step - loss: 0.0281 - acc: 0.9894 - val_loss: 0.0419 - val_acc: 0.9848\n",
            "Epoch 39/50\n",
            "78/78 [==============================] - 9s 118ms/step - loss: 0.0230 - acc: 0.9915 - val_loss: 0.0516 - val_acc: 0.9822\n",
            "Epoch 40/50\n",
            "78/78 [==============================] - 9s 117ms/step - loss: 0.0251 - acc: 0.9904 - val_loss: 0.0404 - val_acc: 0.9861\n",
            "Epoch 41/50\n",
            "78/78 [==============================] - 9s 117ms/step - loss: 0.0227 - acc: 0.9918 - val_loss: 0.0386 - val_acc: 0.9864\n",
            "Epoch 42/50\n",
            "78/78 [==============================] - 9s 117ms/step - loss: 0.0257 - acc: 0.9903 - val_loss: 0.0394 - val_acc: 0.9864\n",
            "Epoch 43/50\n",
            "78/78 [==============================] - 9s 119ms/step - loss: 0.0272 - acc: 0.9903 - val_loss: 0.0371 - val_acc: 0.9874\n",
            "Epoch 44/50\n",
            "78/78 [==============================] - 9s 117ms/step - loss: 0.0196 - acc: 0.9932 - val_loss: 0.0383 - val_acc: 0.9867\n",
            "Epoch 45/50\n",
            "78/78 [==============================] - 9s 119ms/step - loss: 0.0223 - acc: 0.9912 - val_loss: 0.0567 - val_acc: 0.9824\n",
            "Epoch 46/50\n",
            "78/78 [==============================] - 9s 118ms/step - loss: 0.0208 - acc: 0.9921 - val_loss: 0.0382 - val_acc: 0.9878\n",
            "Epoch 47/50\n",
            "78/78 [==============================] - 9s 119ms/step - loss: 0.0228 - acc: 0.9915 - val_loss: 0.0368 - val_acc: 0.9864\n",
            "Epoch 48/50\n",
            "78/78 [==============================] - 9s 118ms/step - loss: 0.0232 - acc: 0.9913 - val_loss: 0.0420 - val_acc: 0.9858\n",
            "Epoch 49/50\n",
            "78/78 [==============================] - 9s 117ms/step - loss: 0.0211 - acc: 0.9921 - val_loss: 0.0512 - val_acc: 0.9857\n",
            "Epoch 50/50\n",
            "78/78 [==============================] - 9s 119ms/step - loss: 0.0242 - acc: 0.9913 - val_loss: 0.0409 - val_acc: 0.9860\n"
          ],
          "name": "stdout"
        }
      ]
    },
    {
      "cell_type": "markdown",
      "metadata": {
        "id": "_lmetVPa_-Sf",
        "colab_type": "text"
      },
      "source": [
        "# 4 ) Evaluating the Model Performance"
      ]
    },
    {
      "cell_type": "code",
      "metadata": {
        "id": "vf1aKD-y75Rp",
        "colab_type": "code",
        "outputId": "09a4048d-9b24-463f-8bef-d92653cfb654",
        "colab": {
          "base_uri": "https://localhost:8080/",
          "height": 317
        }
      },
      "source": [
        "plt.plot(History.history['loss'])\n",
        "plt.plot(History.history['val_loss'])\n",
        "plt.title('Model Loss')\n",
        "plt.ylabel('Loss')\n",
        "plt.xlabel('Epochs')\n",
        "plt.legend(['train', 'test'])\n",
        "plt.show()"
      ],
      "execution_count": 35,
      "outputs": [
        {
          "output_type": "display_data",
          "data": {
            "image/png": "[encoded data removed]",
            "text/plain": [
              "<Figure size 432x288 with 1 Axes>"
            ]
          },
          "metadata": {
            "tags": []
          }
        }
      ]
    },
    {
      "cell_type": "code",
      "metadata": {
        "id": "2rKOujgO7-Dg",
        "colab_type": "code",
        "outputId": "ffe7cf9a-f91d-4bbf-a17b-06925c8f8588",
        "colab": {
          "base_uri": "https://localhost:8080/",
          "height": 317
        }
      },
      "source": [
        "plt.plot(History.history['acc'])\n",
        "plt.plot(History.history['val_acc'])\n",
        "plt.title('Model Accuracy')\n",
        "plt.ylabel('Accuracy')\n",
        "plt.xlabel('Epochs')\n",
        "plt.legend(['train', 'test'])\n",
        "plt.show()\n"
      ],
      "execution_count": 36,
      "outputs": [
        {
          "output_type": "display_data",
          "data": {
            "image/png": "[encoded data removed]",
            "text/plain": [
              "<Figure size 432x288 with 1 Axes>"
            ]
          },
          "metadata": {
            "tags": []
          }
        }
      ]
    },
    {
      "cell_type": "code",
      "metadata": {
        "id": "r1THS1Pq9lW-",
        "colab_type": "code",
        "outputId": "76411cb0-54fa-4613-fe5d-42385ea3fea8",
        "colab": {
          "base_uri": "https://localhost:8080/",
          "height": 550
        }
      },
      "source": [
        "# confusion matrix\n",
        "import seaborn as sns\n",
        "# Predict the values from the validation dataset\n",
        "Y_pred = model.predict(x_test)\n",
        "# Convert predictions classes to one hot vectors \n",
        "Y_pred_classes = np.argmax(Y_pred,axis = 1) \n",
        "# Convert validation observations to one hot vectors\n",
        "Y_true = np.argmax(y_test,axis = 1) \n",
        "# compute the confusion matrix\n",
        "confusion_mtx = confusion_matrix(Y_true, Y_pred_classes) \n",
        "# plot the confusion matrix\n",
        "f,ax = plt.subplots(figsize=(8, 8))\n",
        "sns.heatmap(confusion_mtx, annot=True, linewidths=0.01,cmap=\"Greens\",linecolor=\"gray\", fmt= '.1f',ax=ax)\n",
        "plt.xlabel(\"Predicted Label\")\n",
        "plt.ylabel(\"True Label\")\n",
        "plt.title(\"Confusion Matrix\")\n",
        "plt.show()"
      ],
      "execution_count": 37,
      "outputs": [
        {
          "output_type": "display_data",
          "data": {
            "image/png": "[encoded data removed]",
            "text/plain": [
              "<Figure size 576x576 with 2 Axes>"
            ]
          },
          "metadata": {
            "tags": []
          }
        }
      ]
    },
    {
      "cell_type": "code",
      "metadata": {
        "id": "l49bGNQl9qib",
        "colab_type": "code",
        "colab": {}
      },
      "source": [
        ""
      ],
      "execution_count": 0,
      "outputs": []
    }
  ]
}